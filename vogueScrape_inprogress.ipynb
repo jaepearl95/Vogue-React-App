{
 "cells": [
  {
   "cell_type": "code",
   "execution_count": 2,
   "metadata": {},
   "outputs": [
    {
     "name": "stdout",
     "output_type": "stream",
     "text": [
      "200\n"
     ]
    }
   ],
   "source": [
    "from requests_html import HTMLSession\n",
    "session = HTMLSession();\n",
    "response = session.get('https://www.vogue.com/fashion-shows/fall-2019-ready-to-wear')\n",
    "print(response.status_code)"
   ]
  },
  {
   "cell_type": "code",
   "execution_count": 3,
   "metadata": {},
   "outputs": [
    {
     "name": "stdout",
     "output_type": "stream",
     "text": [
      "3.7.4\n"
     ]
    }
   ],
   "source": [
    "from platform import python_version\n",
    "\n",
    "print(python_version())"
   ]
  },
  {
   "cell_type": "code",
   "execution_count": 4,
   "metadata": {},
   "outputs": [
    {
     "name": "stdout",
     "output_type": "stream",
     "text": [
      "487 links added\n"
     ]
    }
   ],
   "source": [
    "link_tags = response.html.find('.season-module--tab-list li a')\n",
    "links = []\n",
    "\n",
    "\n",
    "for link in link_tags:\n",
    "    url = link.attrs.get('href')\n",
    "    if 'linksynergy' in url:\n",
    "        continue\n",
    "    else: \n",
    "        links.append(url)\n",
    "    \n",
    "# print(link)\n",
    "print(\"{} links added\".format(len(links)))\n"
   ]
  },
  {
   "cell_type": "code",
   "execution_count": 5,
   "metadata": {},
   "outputs": [
    {
     "data": {
      "text/html": [
       "<div>\n",
       "<style scoped>\n",
       "    .dataframe tbody tr th:only-of-type {\n",
       "        vertical-align: middle;\n",
       "    }\n",
       "\n",
       "    .dataframe tbody tr th {\n",
       "        vertical-align: top;\n",
       "    }\n",
       "\n",
       "    .dataframe thead th {\n",
       "        text-align: right;\n",
       "    }\n",
       "</style>\n",
       "<table border=\"1\" class=\"dataframe\">\n",
       "  <thead>\n",
       "    <tr style=\"text-align: right;\">\n",
       "      <th></th>\n",
       "      <th>id</th>\n",
       "      <th>title</th>\n",
       "      <th>images</th>\n",
       "      <th>description</th>\n",
       "    </tr>\n",
       "  </thead>\n",
       "  <tbody>\n",
       "  </tbody>\n",
       "</table>\n",
       "</div>"
      ],
      "text/plain": [
       "Empty DataFrame\n",
       "Columns: [id, title, images, description]\n",
       "Index: []"
      ]
     },
     "execution_count": 5,
     "metadata": {},
     "output_type": "execute_result"
    }
   ],
   "source": [
    "import pandas as pd\n",
    "\n",
    "clist_df = pd.DataFrame(columns=['id', 'title', 'images', 'description'])\n",
    "clist_df"
   ]
  },
  {
   "cell_type": "code",
   "execution_count": null,
   "metadata": {},
   "outputs": [],
   "source": []
  },
  {
   "cell_type": "code",
   "execution_count": null,
   "metadata": {
    "scrolled": true
   },
   "outputs": [
    {
     "name": "stdout",
     "output_type": "stream",
     "text": [
      "title: A Détacher, link: https://www.vogue.com/fashion-shows/fall-2019-ready-to-wear/a-detacher\n",
      "title: A. Teodoro, link: https://www.vogue.com/fashion-shows/fall-2019-ready-to-wear/albino-teodoro\n",
      "title: A.F. Vandevorst, link: https://www.vogue.com/fashion-shows/fall-2019-ready-to-wear/a-f-vandevorst\n",
      "title: A.L.C., link: https://www.vogue.com/fashion-shows/fall-2019-ready-to-wear/a-l-c-\n",
      "title: A.P.C., link: https://www.vogue.com/fashion-shows/fall-2019-ready-to-wear/a-p-c-\n",
      "title: A.W.A.K.E. MODE, link: https://www.vogue.com/fashion-shows/fall-2019-ready-to-wear/a-w-a-k-e-\n",
      "title: Aalto, link: https://www.vogue.com/fashion-shows/fall-2019-ready-to-wear/aalto\n",
      "title: Ace & Jig, link: https://www.vogue.com/fashion-shows/fall-2019-ready-to-wear/ace-jig\n",
      "title: Acne Studios, link: https://www.vogue.com/fashion-shows/fall-2019-ready-to-wear/acne-studios\n",
      "title: Adam Lippes, link: https://www.vogue.com/fashion-shows/fall-2019-ready-to-wear/adam-lippes\n",
      "title: Adam Selman Sport, link: https://www.vogue.com/fashion-shows/fall-2019-ready-to-wear/adam-selman-sport\n",
      "title: Adeam, link: https://www.vogue.com/fashion-shows/fall-2019-ready-to-wear/adeam\n",
      "title: AG, link: https://www.vogue.com/fashion-shows/fall-2019-ready-to-wear/ag\n",
      "title: Agnona, link: https://www.vogue.com/fashion-shows/fall-2019-ready-to-wear/agnona\n",
      "title: Akris, link: https://www.vogue.com/fashion-shows/fall-2019-ready-to-wear/akris\n",
      "title: Alaïa, link: https://www.vogue.com/fashion-shows/fall-2019-ready-to-wear/azzedine-alaia\n",
      "title: Albagìa, link: https://www.vogue.com/fashion-shows/fall-2019-ready-to-wear/albagia\n",
      "title: Alberta Ferretti, link: https://www.vogue.com/fashion-shows/fall-2019-ready-to-wear/alberta-ferretti\n",
      "title: Alchemist, link: https://www.vogue.com/fashion-shows/fall-2019-ready-to-wear/alchemist\n",
      "title: Alejandra Alonso Rojas, link: https://www.vogue.com/fashion-shows/fall-2019-ready-to-wear/alejandra-alonso-rojas\n",
      "title: Alena Akhmadullina, link: https://www.vogue.com/fashion-shows/fall-2019-ready-to-wear/alena-akhmadullina\n",
      "title: Alessandra Rich, link: https://www.vogue.com/fashion-shows/fall-2019-ready-to-wear/alessandra-rich\n",
      "title: ALEXACHUNG, link: https://www.vogue.com/fashion-shows/fall-2019-ready-to-wear/alexa-chung\n",
      "title: Alexander McQueen, link: https://www.vogue.com/fashion-shows/fall-2019-ready-to-wear/alexander-mcqueen\n",
      "title: Alexander Wang, link: https://www.vogue.com/fashion-shows/fall-2019-ready-to-wear/alexander-wang\n",
      "title: Alexandre Vauthier, link: https://www.vogue.com/fashion-shows/fall-2019-ready-to-wear/alexandre-vauthier\n",
      "title: Alexis Mabille, link: https://www.vogue.com/fashion-shows/fall-2019-ready-to-wear/alexis-mabille\n",
      "title: Alice + Olivia, link: https://www.vogue.com/fashion-shows/fall-2019-ready-to-wear/alice-olivia\n",
      "title: Altuzarra, link: https://www.vogue.com/fashion-shows/fall-2019-ready-to-wear/altuzarra\n",
      "title: Alyx, link: https://www.vogue.com/fashion-shows/fall-2019-ready-to-wear/alyx\n",
      "title: Anaïs Jourden, link: https://www.vogue.com/fashion-shows/fall-2019-ready-to-wear/jourden\n",
      "title: Andreas Kronthaler for Vivienne Westwood, link: https://www.vogue.com/fashion-shows/fall-2019-ready-to-wear/andreas-kronthaler-for-vivienne-westwood\n",
      "title: Andrew Gn, link: https://www.vogue.com/fashion-shows/fall-2019-ready-to-wear/andrew-gn\n",
      "title: Ann Demeulemeester, link: https://www.vogue.com/fashion-shows/fall-2019-ready-to-wear/ann-demeulemeester\n",
      "title: Anna Sui, link: https://www.vogue.com/fashion-shows/fall-2019-ready-to-wear/anna-sui\n",
      "title: Anrealage, link: https://www.vogue.com/fashion-shows/fall-2019-ready-to-wear/anrealage\n",
      "title: Anteprima, link: https://www.vogue.com/fashion-shows/fall-2019-ready-to-wear/anteprima\n",
      "title: Antonio Berardi, link: https://www.vogue.com/fashion-shows/fall-2019-ready-to-wear/antonio-berardi\n",
      "title: Antonio Croce, link: https://www.vogue.com/fashion-shows/fall-2019-ready-to-wear/antonio-croce\n",
      "title: Antonio Marras, link: https://www.vogue.com/fashion-shows/fall-2019-ready-to-wear/antonio-marras\n",
      "title: Apiece Apart, link: https://www.vogue.com/fashion-shows/fall-2019-ready-to-wear/apiece-apart\n",
      "title: Area, link: https://www.vogue.com/fashion-shows/fall-2019-ready-to-wear/area\n",
      "title: Arthur Arbesser, link: https://www.vogue.com/fashion-shows/fall-2019-ready-to-wear/arthur-arbesser\n",
      "title: ASAI, link: https://www.vogue.com/fashion-shows/fall-2019-ready-to-wear/asai\n",
      "title: Ashish, link: https://www.vogue.com/fashion-shows/fall-2019-ready-to-wear/ashish\n",
      "title: Ashley Williams, link: https://www.vogue.com/fashion-shows/fall-2019-ready-to-wear/ashley-williams\n",
      "title: Assembly New York, link: https://www.vogue.com/fashion-shows/fall-2019-ready-to-wear/assembly\n",
      "title: Atlein, link: https://www.vogue.com/fashion-shows/fall-2019-ready-to-wear/atlein\n",
      "title: Audra, link: https://www.vogue.com/fashion-shows/fall-2019-ready-to-wear/audra\n",
      "title: Awaveawake, link: https://www.vogue.com/fashion-shows/fall-2019-ready-to-wear/awaveawake\n",
      "title: Babyghost, link: https://www.vogue.com/fashion-shows/fall-2019-ready-to-wear/babyghost\n",
      "title: Badgley Mischka, link: https://www.vogue.com/fashion-shows/fall-2019-ready-to-wear/badgley-mischka\n",
      "title: Balenciaga, link: https://www.vogue.com/fashion-shows/fall-2019-ready-to-wear/balenciaga\n",
      "title: Bally, link: https://www.vogue.com/fashion-shows/fall-2019-ready-to-wear/bally\n",
      "title: Balmain, link: https://www.vogue.com/fashion-shows/fall-2019-ready-to-wear/balmain\n",
      "title: Bande Noir, link: https://www.vogue.com/fashion-shows/fall-2019-ready-to-wear/bande-noir\n",
      "title: Barbara Bui, link: https://www.vogue.com/fashion-shows/fall-2019-ready-to-wear/barbara-bui\n",
      "title: Barbara Tfank, link: https://www.vogue.com/fashion-shows/fall-2019-ready-to-wear/barbara-tfank\n",
      "title: Bassike, link: https://www.vogue.com/fashion-shows/fall-2019-ready-to-wear/bassike\n",
      "title: Batsheva, link: https://www.vogue.com/fashion-shows/fall-2019-ready-to-wear/batsheva\n",
      "title: Beaufille, link: https://www.vogue.com/fashion-shows/fall-2019-ready-to-wear/beaufille\n",
      "title: Beautiful People, link: https://www.vogue.com/fashion-shows/fall-2019-ready-to-wear/beautiful-people\n",
      "title: Belstaff, link: https://www.vogue.com/fashion-shows/fall-2019-ready-to-wear/belstaff\n",
      "title: Bernhard Willhelm, link: https://www.vogue.com/fashion-shows/fall-2019-ready-to-wear/bernhard-willhelm\n",
      "title: Bevza, link: https://www.vogue.com/fashion-shows/fall-2019-ready-to-wear/bevza\n",
      "title: Bibhu Mohapatra, link: https://www.vogue.com/fashion-shows/fall-2019-ready-to-wear/bibhu-mohapatra\n",
      "title: BLDWN, link: https://www.vogue.com/fashion-shows/fall-2019-ready-to-wear/bldwn\n",
      "title: Blumarine, link: https://www.vogue.com/fashion-shows/fall-2019-ready-to-wear/blumarine\n",
      "title: Boss, link: https://www.vogue.com/fashion-shows/fall-2019-ready-to-wear/hugo-boss\n",
      "title: Bottega Veneta, link: https://www.vogue.com/fashion-shows/fall-2019-ready-to-wear/bottega-veneta\n",
      "title: Brandon Maxwell, link: https://www.vogue.com/fashion-shows/fall-2019-ready-to-wear/brandon-maxwell\n",
      "title: Brock Collection, link: https://www.vogue.com/fashion-shows/fall-2019-ready-to-wear/brock-collection\n",
      "title: Brooks Brothers, link: https://www.vogue.com/fashion-shows/fall-2019-ready-to-wear/brooks-brothers\n",
      "title: Brunello Cucinelli, link: https://www.vogue.com/fashion-shows/fall-2019-ready-to-wear/brunello-cucinelli\n",
      "title: Burberry, link: https://www.vogue.com/fashion-shows/fall-2019-ready-to-wear/burberry-prorsum\n",
      "title: Byblos, link: https://www.vogue.com/fashion-shows/fall-2019-ready-to-wear/byblos\n",
      "title: Calvin Luo, link: https://www.vogue.com/fashion-shows/fall-2019-ready-to-wear/calvin-luo\n",
      "title: Camilla and Marc, link: https://www.vogue.com/fashion-shows/fall-2019-ready-to-wear/camilla-marc\n",
      "title: Carmen March, link: https://www.vogue.com/fashion-shows/fall-2019-ready-to-wear/carmen-march\n",
      "title: Carolina Herrera, link: https://www.vogue.com/fashion-shows/fall-2019-ready-to-wear/carolina-herrera\n",
      "title: CDLM, link: https://www.vogue.com/fashion-shows/fall-2019-ready-to-wear/cdlm\n",
      "title: Cédric Charlier, link: https://www.vogue.com/fashion-shows/fall-2019-ready-to-wear/cedric-charlier\n",
      "title: Celine, link: https://www.vogue.com/fashion-shows/fall-2019-ready-to-wear/celine\n",
      "title: Central Saint Martins, link: https://www.vogue.com/fashion-shows/fall-2019-ready-to-wear/central-saint-martins\n"
     ]
    },
    {
     "name": "stdout",
     "output_type": "stream",
     "text": [
      "title: Chalayan, link: https://www.vogue.com/fashion-shows/fall-2019-ready-to-wear/chalayan\n",
      "title: Chanel, link: https://www.vogue.com/fashion-shows/fall-2019-ready-to-wear/chanel\n",
      "title: Chloé, link: https://www.vogue.com/fashion-shows/fall-2019-ready-to-wear/chloe\n",
      "title: Chocheng, link: https://www.vogue.com/fashion-shows/fall-2019-ready-to-wear/chocheng\n",
      "title: Christian Cowan, link: https://www.vogue.com/fashion-shows/fall-2019-ready-to-wear/christian-cowan\n",
      "title: Christian Dior, link: https://www.vogue.com/fashion-shows/fall-2019-ready-to-wear/christian-dior\n",
      "title: Christian Siriano, link: https://www.vogue.com/fashion-shows/fall-2019-ready-to-wear/christian-siriano\n",
      "title: Christian Wijnants, link: https://www.vogue.com/fashion-shows/fall-2019-ready-to-wear/christian-wijnants\n",
      "title: Christopher Esber, link: https://www.vogue.com/fashion-shows/fall-2019-ready-to-wear/christopher-esber\n",
      "title: Christopher John Rogers, link: https://www.vogue.com/fashion-shows/fall-2019-ready-to-wear/christopher-john-rogers\n",
      "title: Christopher Kane, link: https://www.vogue.com/fashion-shows/fall-2019-ready-to-wear/christopher-kane\n",
      "exception thrown for:\n",
      "https://www.modaoperandi.com/christopher-kane-fw19?utm_source=VogueRunway&utm_medium=affiliates&utm_campaign=fw19&utm_content=christopherkane\n",
      "title: Chromat, link: https://www.vogue.com/fashion-shows/fall-2019-ready-to-wear/chromat\n",
      "title: Cinq à Sept, link: https://www.vogue.com/fashion-shows/fall-2019-ready-to-wear/cinq-a-sept\n",
      "title: Cividini, link: https://www.vogue.com/fashion-shows/fall-2019-ready-to-wear/cividini\n",
      "title: Claudia Li, link: https://www.vogue.com/fashion-shows/fall-2019-ready-to-wear/claudia-li\n",
      "title: Co, link: https://www.vogue.com/fashion-shows/fall-2019-ready-to-wear/co\n",
      "title: Coach, link: https://www.vogue.com/fashion-shows/fall-2019-ready-to-wear/coach\n",
      "title: Collina Strada, link: https://www.vogue.com/fashion-shows/fall-2019-ready-to-wear/collina-strada\n",
      "title: Colville, link: https://www.vogue.com/fashion-shows/fall-2019-ready-to-wear/colville\n",
      "title: Comme des Garçons, link: https://www.vogue.com/fashion-shows/fall-2019-ready-to-wear/comme-des-garcons\n",
      "title: Comme des Garçons Comme des Garçons, link: https://www.vogue.com/fashion-shows/fall-2019-ready-to-wear/comme-des-garcons-comme-des-garcons\n",
      "title: Cong Tri, link: https://www.vogue.com/fashion-shows/fall-2019-ready-to-wear/cong-tri\n",
      "title: Coperni, link: https://www.vogue.com/fashion-shows/fall-2019-ready-to-wear/coperni\n",
      "title: Courrèges, link: https://www.vogue.com/fashion-shows/fall-2019-ready-to-wear/courreges\n",
      "title: Creatures of the Wind, link: https://www.vogue.com/fashion-shows/fall-2019-ready-to-wear/creatures-of-wind\n",
      "title: Cushnie, link: https://www.vogue.com/fashion-shows/fall-2019-ready-to-wear/cushnie\n",
      "title: Custo Barcelona, link: https://www.vogue.com/fashion-shows/fall-2019-ready-to-wear/custo-barcelona\n",
      "title: Cynthia Rowley, link: https://www.vogue.com/fashion-shows/fall-2019-ready-to-wear/cynthia-rowley\n",
      "title: David Koma, link: https://www.vogue.com/fashion-shows/fall-2019-ready-to-wear/david-koma\n",
      "title: Delpozo, link: https://www.vogue.com/fashion-shows/fall-2019-ready-to-wear/delpozo\n",
      "title: Dennis Basso, link: https://www.vogue.com/fashion-shows/fall-2019-ready-to-wear/dennis-basso\n",
      "title: Derek Lam, link: https://www.vogue.com/fashion-shows/fall-2019-ready-to-wear/derek-lam\n",
      "title: Derek Lam 10 Crosby, link: https://www.vogue.com/fashion-shows/fall-2019-ready-to-wear/derek-lam-10-crosby\n",
      "title: Deveaux, link: https://www.vogue.com/fashion-shows/fall-2019-ready-to-wear/deveaux\n",
      "title: Diane von Furstenberg, link: https://www.vogue.com/fashion-shows/fall-2019-ready-to-wear/diane-von-furstenberg\n",
      "title: Dice Kayek, link: https://www.vogue.com/fashion-shows/fall-2019-ready-to-wear/dice-kayek\n",
      "title: Dion Lee, link: https://www.vogue.com/fashion-shows/fall-2019-ready-to-wear/dion-lee\n",
      "title: Dolce & Gabbana, link: https://www.vogue.com/fashion-shows/fall-2019-ready-to-wear/dolce-gabbana\n",
      "title: Dondup, link: https://www.vogue.com/fashion-shows/fall-2019-ready-to-wear/dondup\n",
      "title: Dorothee Schumacher, link: https://www.vogue.com/fashion-shows/fall-2019-ready-to-wear/schumacher\n",
      "title: Dries Van Noten, link: https://www.vogue.com/fashion-shows/fall-2019-ready-to-wear/dries-van-noten\n",
      "title: Dsquared2, link: https://www.vogue.com/fashion-shows/fall-2019-ready-to-wear/dsquared\n",
      "title: Dundas, link: https://www.vogue.com/fashion-shows/fall-2019-ready-to-wear/dundas\n",
      "title: Duro Olowu, link: https://www.vogue.com/fashion-shows/fall-2019-ready-to-wear/duro-olowu\n",
      "title: Each x Other, link: https://www.vogue.com/fashion-shows/fall-2019-ready-to-wear/each-other\n",
      "title: Eckhaus Latta, link: https://www.vogue.com/fashion-shows/fall-2019-ready-to-wear/eckhaus-latta\n",
      "title: Edeline Lee, link: https://www.vogue.com/fashion-shows/fall-2019-ready-to-wear/edeline-lee\n",
      "title: Elie Saab, link: https://www.vogue.com/fashion-shows/fall-2019-ready-to-wear/elie-saab\n",
      "title: Elie Tahari, link: https://www.vogue.com/fashion-shows/fall-2019-ready-to-wear/elie-tahari\n",
      "title: Ellery, link: https://www.vogue.com/fashion-shows/fall-2019-ready-to-wear/ellery\n",
      "title: Emilia Wickstead, link: https://www.vogue.com/fashion-shows/fall-2019-ready-to-wear/emilia-wickstead\n",
      "title: Emilio de la Morena, link: https://www.vogue.com/fashion-shows/fall-2019-ready-to-wear/emilio-de-la-morena\n",
      "title: Emilio Pucci, link: https://www.vogue.com/fashion-shows/fall-2019-ready-to-wear/emilio-pucci\n",
      "title: Emporio Armani, link: https://www.vogue.com/fashion-shows/fall-2019-ready-to-wear/emporio-armani\n",
      "title: Enfants Riches Déprimés, link: https://www.vogue.com/fashion-shows/fall-2019-ready-to-wear/enfants-riches-deprimes\n",
      "title: Erdem, link: https://www.vogue.com/fashion-shows/fall-2019-ready-to-wear/erdem\n",
      "title: Eric Schlösberg, link: https://www.vogue.com/fashion-shows/fall-2019-ready-to-wear/eric-schlosberg\n",
      "title: Ermanno Scervino, link: https://www.vogue.com/fashion-shows/fall-2019-ready-to-wear/ermanno-scervino\n",
      "title: Escada, link: https://www.vogue.com/fashion-shows/fall-2019-ready-to-wear/escada\n",
      "title: Esteban Cortazar, link: https://www.vogue.com/fashion-shows/fall-2019-ready-to-wear/esteban-cortazar\n",
      "title: Etro, link: https://www.vogue.com/fashion-shows/fall-2019-ready-to-wear/etro\n",
      "title: Eudon Choi, link: https://www.vogue.com/fashion-shows/fall-2019-ready-to-wear/eudon-choi\n",
      "title: Faith Connexion, link: https://www.vogue.com/fashion-shows/fall-2019-ready-to-wear/faith-connexion\n",
      "title: Fashion East, link: https://www.vogue.com/fashion-shows/fall-2019-ready-to-wear/fashion-east\n",
      "title: Fausto Puglisi, link: https://www.vogue.com/fashion-shows/fall-2019-ready-to-wear/fausto-puglisi\n",
      "title: Fay, link: https://www.vogue.com/fashion-shows/fall-2019-ready-to-wear/fay\n",
      "title: Fendi, link: https://www.vogue.com/fashion-shows/fall-2019-ready-to-wear/fendi\n",
      "title: Filles à Papa, link: https://www.vogue.com/fashion-shows/fall-2019-ready-to-wear/filles-a-papa\n",
      "title: For Restless Sleepers, link: https://www.vogue.com/fashion-shows/fall-2019-ready-to-wear/for-restless-sleepers\n",
      "title: Frame, link: https://www.vogue.com/fashion-shows/fall-2019-ready-to-wear/frame-denim\n",
      "title: Françoise, link: https://www.vogue.com/fashion-shows/fall-2019-ready-to-wear/francoise\n",
      "title: Gabriela Hearst, link: https://www.vogue.com/fashion-shows/fall-2019-ready-to-wear/gabriela-hearst\n",
      "title: Gabriele Colangelo, link: https://www.vogue.com/fashion-shows/fall-2019-ready-to-wear/gabriele-colangelo\n",
      "title: Galia Lahav, link: https://www.vogue.com/fashion-shows/fall-2019-ready-to-wear/galia-lahav\n",
      "title: Galvan, link: https://www.vogue.com/fashion-shows/fall-2019-ready-to-wear/galvan\n",
      "title: GCDS, link: https://www.vogue.com/fashion-shows/fall-2019-ready-to-wear/gcds\n",
      "title: Genny, link: https://www.vogue.com/fashion-shows/fall-2019-ready-to-wear/genny\n",
      "title: Giada, link: https://www.vogue.com/fashion-shows/fall-2019-ready-to-wear/giada\n",
      "title: Giamba by Giambattista Valli, link: https://www.vogue.com/fashion-shows/fall-2019-ready-to-wear/giamba\n",
      "title: Giambattista Valli, link: https://www.vogue.com/fashion-shows/fall-2019-ready-to-wear/giambattista-valli\n"
     ]
    }
   ],
   "source": [
    "from time import sleep\n",
    "\n",
    "for link in links:    \n",
    "    response = session.get(link + '/slideshow/collection')\n",
    "        \n",
    "    try:\n",
    "        post_id = link.split('/')[-1].replace('.html', '')\n",
    "\n",
    "        images = []\n",
    "        \n",
    "        for img in response.html.find('.gallery--center-module--image'):\n",
    "            images.append(img.attrs.get('srcset'))\n",
    "            \n",
    "        title = response.html.find('.gallery--header--title',first=True).text\n",
    "        \n",
    "        clist_df = clist_df.append({'title': title,\n",
    "            'images': images}, ignore_index=True)\n",
    "        \n",
    "        print(\"title: {}, link: {}\".format(*(title,link)))\n",
    "        \n",
    "        sleep(.1)\n",
    "        \n",
    "    except:\n",
    "        print(\"exception thrown for:\")\n",
    "        print(link)\n",
    "        \n"
   ]
  },
  {
   "cell_type": "code",
   "execution_count": null,
   "metadata": {},
   "outputs": [],
   "source": [
    "clist_df"
   ]
  },
  {
   "cell_type": "code",
   "execution_count": 8,
   "metadata": {},
   "outputs": [
    {
     "name": "stdout",
     "output_type": "stream",
     "text": [
      "Coach 1941\n",
      "https://assets.vogue.com/photos/5c6321e0a53da55470ff25b8/master/w_320,c_limit/_FIO0314.jpg\n",
      "https://assets.vogue.com/photos/5c631fe74203122d195082b3/master/w_320,c_limit/_FIO0026.jpg\n",
      "https://assets.vogue.com/photos/5c631ff8b2306c2d80847035/master/w_320,c_limit/_FIO0033.jpg\n",
      "https://assets.vogue.com/photos/5c632050dcab762d97f74469/master/w_320,c_limit/_FIO0052.jpg\n",
      "https://assets.vogue.com/photos/5c632042e71a0a2d78f1f6b5/master/w_320,c_limit/_FIO0066.jpg\n",
      "https://assets.vogue.com/photos/5c63204a276d772cf7cb8e30/master/w_320,c_limit/_FIO0082.jpg\n",
      "https://assets.vogue.com/photos/5c6320cfae327e2d3c56a168/master/w_320,c_limit/_FIO0098.jpg\n",
      "https://assets.vogue.com/photos/5c63210de71a0a2d78f1f6b9/master/w_320,c_limit/_FIO0116.jpg\n",
      "https://assets.vogue.com/photos/5c63211aa53da55470ff25ab/master/w_320,c_limit/_FIO0128.jpg\n",
      "https://assets.vogue.com/photos/5c6320e9a53da55470ff25a4/master/w_320,c_limit/_FIO0144.jpg\n",
      "https://assets.vogue.com/photos/5c6320dbae327e2d3c56a16b/master/w_320,c_limit/_FIO0152.jpg\n",
      "https://assets.vogue.com/photos/5c632120e71a0a2d78f1f6bb/master/w_320,c_limit/_FIO0166.jpg\n",
      "https://assets.vogue.com/photos/5c63216aae327e2d3c56a171/master/w_320,c_limit/_FIO0181.jpg\n",
      "https://assets.vogue.com/photos/5c63215da53da55470ff25b5/master/w_320,c_limit/_FIO0193.jpg\n",
      "https://assets.vogue.com/photos/5c632171dcab762d97f7447d/master/w_320,c_limit/_FIO0213.jpg\n",
      "https://assets.vogue.com/photos/5c632184b2306c2d80847047/master/w_320,c_limit/_FIO0229.jpg\n",
      "https://assets.vogue.com/photos/5c63217d3eb2fd2cff2a4589/master/w_320,c_limit/_FIO0243.jpg\n",
      "https://assets.vogue.com/photos/5c6321e7ae327e2d3c56a174/master/w_320,c_limit/_FIO0264.jpg\n",
      "https://assets.vogue.com/photos/5c6321eeae327e2d3c56a176/master/w_320,c_limit/_FIO0278.jpg\n",
      "https://assets.vogue.com/photos/5c6321d9b2306c2d8084704e/master/w_320,c_limit/_FIO0294.jpg\n",
      "https://assets.vogue.com/photos/5c6321e0a53da55470ff25b8/master/w_320,c_limit/_FIO0314.jpg\n",
      "https://assets.vogue.com/photos/5c631fe74203122d195082b3/master/w_320,c_limit/_FIO0026.jpg\n"
     ]
    }
   ],
   "source": [
    "record = 100\n",
    "\n",
    "print(clist_df.iloc[record].title)\n",
    "\n",
    "for img in clist_df.iloc[record].images:\n",
    "    print(img)"
   ]
  },
  {
   "cell_type": "code",
   "execution_count": 1,
   "metadata": {},
   "outputs": [
    {
     "ename": "NameError",
     "evalue": "name 'clist_df' is not defined",
     "output_type": "error",
     "traceback": [
      "\u001b[0;31m---------------------------------------------------------------------------\u001b[0m",
      "\u001b[0;31mNameError\u001b[0m                                 Traceback (most recent call last)",
      "\u001b[0;32m<ipython-input-1-6b4fda3a17f9>\u001b[0m in \u001b[0;36m<module>\u001b[0;34m\u001b[0m\n\u001b[1;32m      1\u001b[0m \u001b[0;32mimport\u001b[0m \u001b[0murllib\u001b[0m\u001b[0;34m.\u001b[0m\u001b[0mrequest\u001b[0m\u001b[0;34m\u001b[0m\u001b[0;34m\u001b[0m\u001b[0m\n\u001b[1;32m      2\u001b[0m \u001b[0;34m\u001b[0m\u001b[0m\n\u001b[0;32m----> 3\u001b[0;31m \u001b[0;32mfor\u001b[0m \u001b[0mindex\u001b[0m\u001b[0;34m,\u001b[0m \u001b[0mrow\u001b[0m \u001b[0;32min\u001b[0m \u001b[0mclist_df\u001b[0m\u001b[0;34m.\u001b[0m\u001b[0miterrows\u001b[0m\u001b[0;34m(\u001b[0m\u001b[0;34m)\u001b[0m\u001b[0;34m:\u001b[0m\u001b[0;34m\u001b[0m\u001b[0;34m\u001b[0m\u001b[0m\n\u001b[0m\u001b[1;32m      4\u001b[0m     \u001b[0;32mfor\u001b[0m \u001b[0murl\u001b[0m \u001b[0;32min\u001b[0m \u001b[0mrow\u001b[0m\u001b[0;34m[\u001b[0m\u001b[0;34m'title'\u001b[0m\u001b[0;34m]\u001b[0m\u001b[0;34m:\u001b[0m\u001b[0;34m\u001b[0m\u001b[0;34m\u001b[0m\u001b[0m\n\u001b[1;32m      5\u001b[0m         \u001b[0mprint\u001b[0m\u001b[0;34m(\u001b[0m\u001b[0murl\u001b[0m\u001b[0;34m)\u001b[0m\u001b[0;34m\u001b[0m\u001b[0;34m\u001b[0m\u001b[0m\n",
      "\u001b[0;31mNameError\u001b[0m: name 'clist_df' is not defined"
     ]
    }
   ],
   "source": [
    "import urllib.request\n",
    "\n",
    "for index, row in clist_df.iterrows():\n",
    "    for url in row['title']:\n",
    "        print(url)\n",
    "        file_name = url.split('/')[-1]\n",
    "        urllib.request.urlretrieve(url, 'assets.vogue.com\\\\' + file_name)\n",
    "\n",
    "        #sleep(.1)\n",
    "    "
   ]
  },
  {
   "cell_type": "code",
   "execution_count": 30,
   "metadata": {},
   "outputs": [],
   "source": [
    "import urllib.request\n",
    "\n",
    "for index, row in clist_df.iterrows():\n",
    "    for designer in row['title']:\n",
    "        print(url)\n",
    "#         file_name = url.split('/')[-1]\n",
    "        urllib.request.urlretrieve(designer)\n",
    "        #sleep(.1)\n",
    "\n"
   ]
  },
  {
   "cell_type": "markdown",
   "metadata": {},
   "source": []
  }
 ],
 "metadata": {
  "kernelspec": {
   "display_name": "Python 3",
   "language": "python",
   "name": "python3"
  },
  "language_info": {
   "codemirror_mode": {
    "name": "ipython",
    "version": 3
   },
   "file_extension": ".py",
   "mimetype": "text/x-python",
   "name": "python",
   "nbconvert_exporter": "python",
   "pygments_lexer": "ipython3",
   "version": "3.7.4"
  }
 },
 "nbformat": 4,
 "nbformat_minor": 2
}
